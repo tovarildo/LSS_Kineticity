{
 "cells": [
  {
   "cell_type": "markdown",
   "metadata": {},
   "source": [
    "Notebook to calculate the Fisher LSST detection of Kineticity"
   ]
  },
  {
   "cell_type": "code",
   "execution_count": 1,
   "metadata": {},
   "outputs": [],
   "source": [
    "from classy import Class\n",
    "%matplotlib inline\n",
    "import matplotlib.pyplot as plt\n",
    "import numpy as np\n",
    "import sympy as sp\n",
    "from scipy.interpolate import interp1d\n",
    "from scipy import integrate\n",
    "from scipy.integrate import simps\n",
    "from scipy.special import erf"
   ]
  },
  {
   "cell_type": "markdown",
   "metadata": {},
   "source": [
    "# Calculate the Cosmology"
   ]
  },
  {
   "cell_type": "code",
   "execution_count": 2,
   "metadata": {},
   "outputs": [],
   "source": [
    "# Define your cosmology (what is not specified will be set to CLASS default parameters)\n",
    "params = {\n",
    "\"Omega_Lambda\": 0,\n",
    "\"Omega_fld\": 0,\n",
    "\"Omega_smg\" : -1.,\n",
    "\"gravity_model\" : \"propto_omega\",\n",
    "\"parameters_smg\" : \"1, 0, 0, 0, 1\",\n",
    "\"expansion_model\" : \"lcdm\",\n",
    "\"expansion_smg\" : 0.75,\n",
    "\"tuning_index_smg\" : 0,\n",
    "\"tuning_dxdy_guess_smg\" : 1,\n",
    "\"number count contributions\" : \"density\",\n",
    "\"temperature contributions\": \"tsw, eisw, lisw, dop, pol\",\n",
    "\"selection\" : \"tophat\",\n",
    "#ask only one bin to make sure T-d is the right one!\n",
    "\"selection_mean\" : \"0.3\", \n",
    "\"selection_width\" : 0.05,\n",
    "\"l_max_lss\" : 1001,\n",
    "\"output\" : \"nCl, tCl\",\n",
    "\"omega_cdm\" : 0.11984,\n",
    "\"omega_b\" : 0.02225,\n",
    "\"h\": 0.6727,\n",
    "\"ln10^{10}A_s\": 3.094,\n",
    "\"n_s\" : 0.9645,\n",
    "\"k_pivot\" : 0.05,\n",
    "\"tau_reio\" : 0.079,\n",
    "\"YHe\" : 0.24,\n",
    "\"skip_stability_tests_smg\": \"no\",\n",
    "\"kineticity_safe_smg\" : 1e-6,\n",
    "#the following give problems, but they are set to default values\n",
    "#\"l_switch_limber_for_nc_local_over_z\" : 10000.,\n",
    "#\"l_switch_limber_for_nc_los_over_z\" : 1000.,\n",
    "\"selection_sampling_bessel\" : .5,\n",
    "\"k_max_tau0_over_l_max\" : 2.,\n",
    "\"q_linstep\" : .5,\n",
    "\"start_small_k_at_tau_c_over_tau_h\" : 1e-4,\n",
    "\"start_large_k_at_tau_h_over_tau_k\" : 1e-4,\n",
    "\"perturb_sampling_stepsize\" : 0.05,\n",
    "\"l_logstep\" : 1.045,\n",
    "\"l_linstep\" : 50\n",
    "}"
   ]
  },
  {
   "cell_type": "code",
   "execution_count": 3,
   "metadata": {},
   "outputs": [
    {
     "data": {
      "text/plain": [
       "'1,0,0,0,1'"
      ]
     },
     "execution_count": 3,
     "metadata": {},
     "output_type": "execute_result"
    }
   ],
   "source": [
    "params[\"parameters_smg\"]=\"1,0,0,0,1\"\n",
    "\n",
    "params[\"parameters_smg\"]"
   ]
  },
  {
   "cell_type": "code",
   "execution_count": 4,
   "metadata": {},
   "outputs": [],
   "source": [
    "# Create an instance of the CLASS wrapper\n",
    "cosmos = Class()"
   ]
  },
  {
   "cell_type": "code",
   "execution_count": 5,
   "metadata": {},
   "outputs": [
    {
     "data": {
      "text/plain": [
       "True"
      ]
     },
     "execution_count": 5,
     "metadata": {},
     "output_type": "execute_result"
    }
   ],
   "source": [
    "# Set the parameters to the cosmological code\n",
    "cosmos.set(params)"
   ]
  },
  {
   "cell_type": "code",
   "execution_count": 6,
   "metadata": {},
   "outputs": [],
   "source": [
    "# Run the whole code. Depending on your output, it will call the\n",
    "# CLASS modules more or less fast. For instance, without any\n",
    "# output asked, CLASS will only compute background quantities,\n",
    "# thus running almost instantaneously.\n",
    "# This is equivalent to the beginning of the `main` routine of CLASS,\n",
    "# with all the struct_init() methods called.\n",
    "cosmos.compute()"
   ]
  },
  {
   "cell_type": "code",
   "execution_count": 14,
   "metadata": {},
   "outputs": [],
   "source": [
    "# Clean CLASS (the equivalent of the struct_free() in the `main`\n",
    "# of CLASS. This step is primordial when running in a loop over different\n",
    "# cosmologies, as you will saturate your memory very fast if you ommit\n",
    "# it.\n",
    "cosmos.struct_cleanup()"
   ]
  },
  {
   "cell_type": "code",
   "execution_count": 15,
   "metadata": {},
   "outputs": [],
   "source": [
    "# If you want to change completely the cosmology, you should also\n",
    "# clean the arguments, otherwise, if you are simply running on a loop\n",
    "# of different values for the same parameters, this step is not needed\n",
    "cosmos.empty()"
   ]
  },
  {
   "cell_type": "markdown",
   "metadata": {},
   "source": [
    "# Define the Tracers"
   ]
  },
  {
   "cell_type": "markdown",
   "metadata": {},
   "source": [
    "### Background quantitites"
   ]
  },
  {
   "cell_type": "code",
   "execution_count": 16,
   "metadata": {},
   "outputs": [
    {
     "data": {
      "text/plain": [
       "dict_keys(['z', 'proper time [Gyr]', 'conf. time [Mpc]', 'H [1/Mpc]', 'comov. dist.', 'ang.diam.dist.', 'lum. dist.', 'comov.snd.hrz.', '(.)rho_g', '(.)rho_b', '(.)rho_cdm', '(.)rho_ur', '(.)rho_crit', 'gr.fac. D', 'gr.fac. f', '(.)rho_smg', '(.)p_smg', 'M*^2_smg', 'D_M*^2_smg', 'kineticity_smg', 'braiding_smg', 'tensor_excess_smg', 'Mpl_running_smg', 'c_s^2', 'kin (D)'])"
      ]
     },
     "execution_count": 16,
     "metadata": {},
     "output_type": "execute_result"
    }
   ],
   "source": [
    "background = cosmos.get_background()\n",
    "#background.keys()\n",
    "redshift = background['z']\n",
    "Hubble = background['H [1/Mpc]']\n",
    "growth_D = background['gr.fac. D']\n",
    "growth_f = background['gr.fac. f']\n",
    "comoving_dist = background[ 'comov. dist.']\n",
    "background.keys()"
   ]
  },
  {
   "cell_type": "code",
   "execution_count": null,
   "metadata": {},
   "outputs": [],
   "source": [
    "def ell_max_at_z(redshift, comoving_dist, z, k_max):\n",
    "    chi = interp1d(redshift, comoving_dist, kind='cubic') # interpolate the comoving distance as a function of z\n",
    "    ell_max = k_max * chi(z) - 0.5  \n",
    "    return ell_max"
   ]
  },
  {
   "cell_type": "code",
   "execution_count": 24,
   "metadata": {},
   "outputs": [],
   "source": [
    "# define the bias \n",
    "def b_lsst(redshift, growth_D, z, b0=0.95):\n",
    "    D = interp1d(redshift, growth_D, kind='cubic') # interpolate the growth function as a function of z\n",
    "    b = b0 / D(z)\n",
    "    return b"
   ]
  },
  {
   "cell_type": "code",
   "execution_count": null,
   "metadata": {},
   "outputs": [],
   "source": [
    "# define the photo z error\n",
    "def photoz_error(z, sigma_z0=0.03):\n",
    "    return sigma_z0*(1+z)"
   ]
  },
  {
   "cell_type": "code",
   "execution_count": null,
   "metadata": {},
   "outputs": [],
   "source": [
    "def dN_dz(z, z0=0.28, alpha=0.9, ngal_arcmin_minus2=48.):\n",
    "    \"\"\"LSST DESC SRD Mandelbaum et al. (2018), arXiv:1809.01669\"\"\"\n",
    "    norm = 1/60 * ngal_arcmin_minus2  # in arcmin^-2 # FIXME: Normalization breaks for other params.\n",
    "    dndz = norm * z**2. * np.exp(-z/z0)**alpha\n",
    "    return dndz  # in arcmin^-2"
   ]
  },
  {
   "cell_type": "code",
   "execution_count": 125,
   "metadata": {},
   "outputs": [],
   "source": [
    "def Ngal_lsst_gold(fmask=0.12, i_maglim=25.3):\n",
    "    return 42.9*(1 - fmask)*10**(0.359*(i_maglim - 25))  # in arcmin^-2"
   ]
  },
  {
   "cell_type": "code",
   "execution_count": null,
   "metadata": {},
   "outputs": [],
   "source": []
  },
  {
   "cell_type": "code",
   "execution_count": null,
   "metadata": {},
   "outputs": [],
   "source": []
  },
  {
   "cell_type": "code",
   "execution_count": null,
   "metadata": {},
   "outputs": [],
   "source": []
  },
  {
   "cell_type": "code",
   "execution_count": 124,
   "metadata": {},
   "outputs": [
    {
     "data": {
      "image/png": "[encoded data removed]",
      "text/plain": [
       "<Figure size 432x288 with 1 Axes>"
      ]
     },
     "metadata": {
      "needs_background": "light"
     },
     "output_type": "display_data"
    }
   ],
   "source": [
    "x = redshift[0:10000]\n",
    "y = growth_D[0:10000]\n",
    "D = interp1d(redshift, growth_D, kind='cubic')\n",
    "xnew = np.linspace(x[0], x[-1], 1000)\n",
    "ynew = D(xnew)   # use interpolation function returned by `interp1d`\n",
    "#plt.plot(x, y, 'o', xnew, ynew, '-')\n",
    "plt.scatter(x, 1.0 * y, s=3)\n",
    "plt.plot(xnew, ynew, '-',color='r')\n",
    "#plt.ylim(0.0 , 5 / np.power(10,4))\n",
    "plt.xlim(0. * np.power(10,14), 0.1 * np.power(10,14))\n",
    "plt.show()"
   ]
  },
  {
   "cell_type": "code",
   "execution_count": 69,
   "metadata": {},
   "outputs": [
    {
     "data": {
      "text/plain": [
       "array([5.54090847e-20, 7.73024744e-08, 1.54604949e-07, ...,\n",
       "       9.92766775e-01, 9.96479926e-01, 1.00000000e+00])"
      ]
     },
     "execution_count": 69,
     "metadata": {},
     "output_type": "execute_result"
    }
   ],
   "source": [
    "y"
   ]
  },
  {
   "cell_type": "code",
   "execution_count": 93,
   "metadata": {},
   "outputs": [
    {
     "data": {
      "text/plain": [
       "100000000000000"
      ]
     },
     "execution_count": 93,
     "metadata": {},
     "output_type": "execute_result"
    }
   ],
   "source": [
    "np.power(10,14)"
   ]
  },
  {
   "cell_type": "code",
   "execution_count": null,
   "metadata": {},
   "outputs": [],
   "source": []
  }
 ],
 "metadata": {
  "kernelspec": {
   "display_name": "Python 3 (ipykernel)",
   "language": "python",
   "name": "python3"
  },
  "language_info": {
   "codemirror_mode": {
    "name": "ipython",
    "version": 3
   },
   "file_extension": ".py",
   "mimetype": "text/x-python",
   "name": "python",
   "nbconvert_exporter": "python",
   "pygments_lexer": "ipython3",
   "version": "3.9.12"
  }
 },
 "nbformat": 4,
 "nbformat_minor": 4
}
